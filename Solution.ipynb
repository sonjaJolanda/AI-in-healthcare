{
 "cells": [
  {
   "cell_type": "markdown",
   "metadata": {
    "@deathbeds/jupyterlab-fonts": {
     "styles": {
      "": {
       "body[data-jp-deck-mode='presenting'] &": {
        "height": "19.475401453225007%",
        "left": "2.540895887084863%",
        "position": "fixed",
        "top": "40.26230042239269%",
        "width": "94.91686648355792%"
       }
      }
     }
    },
    "slideshow": {
     "slide_type": "slide"
    },
    "tags": []
   },
   "source": [
    "### AI in Healthcare\n",
    "<center>\n",
    "    Practical course: Arrythmia study\n",
    "\n",
    "    Sonja Klein / 3794693\n",
    "\n",
    "    bis 07.07.2024\n",
    "</center>"
   ]
  },
  {
   "cell_type": "markdown",
   "metadata": {
    "slideshow": {
     "slide_type": "skip"
    }
   },
   "source": [
    "**Aufgabenstellung - Ausschnitte**\n",
    "\n",
    "In this practical course, we are going to focus on arrhythmia which symptoms include palpitations,\n",
    "chest pain, shortness of breath, dizziness and even fainting. Arrhythmia refers to abnormal or irregular\n",
    "heartbeat. The severity of symptoms varies depending on the type and severity of the condition.\n",
    "Additionally, some types of arrhythmias can lead to insufficient filling and pumping of blood, increase\n",
    "the risk of stroke or cause a heart failure.\n",
    "- [Dataset (Use that data as well!!)](https://physionet.org/content/ecg-arrhythmia/1.0.0/WFDBRecords/01/010/): ECG recordings of tens of thousands of patients that suffer from different types of\n",
    "arrhythmias.\n",
    " [I found another link and used that data??](https://figshare.com/authors/Jianwei_Zheng/6896378)\n",
    "- There is a template!!!\n",
    "- comment the notebook!!\n",
    "\n",
    "- Task 1: Research question: \n",
    "In this practical course, you are tasked with formulating and defining a research question to be answered the available dataset. By developing a focused research question, the aim is to analyse the data systematically and draw meaningful conclusions that contribute to the understanding of the subject matter. Here are some examples of papers dealing with cardiac arrhythmia detection [5] [6] [7].\n",
    "- Task 2: Data exploration: \n",
    "Data exploration is a crucial step before analysing data. Your task now consists of the following:\n",
    "    - Summarise key statistics (min, max, and other relevant metrics) to understand the dataset’s characteristics.\n",
    "    - Analyse the distribution of the different features.\n",
    "    - Detect outliers within the dataset that may impact analysis accuracy and reliability.\n",
    "- Task 3: Data analysis:\n",
    "The quality of data analysis outcomes is directly influenced by the quality of the underlying data.\n",
    "    - Perform pre-processing steps (data cleaning, feature normalization, and selection, etc.) to prepare the dataset for analysis.\n",
    "    - What types of transformations would you recommend for this dataset? Explain why these transformations are beneficial for enhancing data quality and improving analysis outcomes.\n",
    "    - What types of features can be extracted from the signals in the dataset and are most relevant and important for addressing the research question effectively?\n",
    "- After completing pre-processing and feature extraction, apply (at least) two ML and/or deep learning techniques of your choice (one simple and one complex technique) to the pre-processed\n",
    "data. Evaluate the obtained results and assess how well they address the research question. More particularly, perform hyperparameters tuning if necessary and determine the most important factors\n",
    "that contributed to your results.\n",
    "\n",
    "\n",
    "...\n",
    "\n",
    "- a) Implementieren Sie [Steepest Ascent Hill Climbing](#steepest-ascent-hill-climbing) auf dem Tra"
   ]
  },
  {
   "cell_type": "markdown",
   "metadata": {},
   "source": [
    "Basic functions that we use"
   ]
  },
  {
   "cell_type": "code",
   "execution_count": 1,
   "metadata": {},
   "outputs": [],
   "source": [
    "import datetime  \n",
    "import random\n",
    "from copy import deepcopy # Copy procedure\n",
    "\n"
   ]
  },
  {
   "cell_type": "markdown",
   "metadata": {},
   "source": [
    "### <a style=\"color:orchid\" id='ils'>Interated Local Search</a>\n",
    "<span style=\"color:red\">Improved version of Hill Climbing with Random Restarts </span>\n",
    "- **Initialization function**: Provide one or more initial candidates at random\n",
    "- **Objective Function**: Return how \"good\" a solution is (length of the tour)"
   ]
  }
 ],
 "metadata": {
  "celltoolbar": "Slideshow",
  "kernelspec": {
   "display_name": "Python 3",
   "language": "python",
   "name": "python3"
  },
  "language_info": {
   "codemirror_mode": {
    "name": "ipython",
    "version": 3
   },
   "file_extension": ".py",
   "mimetype": "text/x-python",
   "name": "python",
   "nbconvert_exporter": "python",
   "pygments_lexer": "ipython3",
   "version": "3.12.3"
  }
 },
 "nbformat": 4,
 "nbformat_minor": 4
}
